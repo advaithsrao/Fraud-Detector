{
 "cells": [
  {
   "cell_type": "code",
   "execution_count": 2,
   "metadata": {},
   "outputs": [],
   "source": [
    "import os\n",
    "import math\n",
    "import re\n",
    "import pandas as pd\n",
    "import seaborn as sns\n",
    "import numpy as np\n",
    "import matplotlib.pyplot as plt\n",
    "from datetime import datetime\n",
    "import scipy.stats as stats\n"
   ]
  },
  {
   "cell_type": "code",
   "execution_count": 3,
   "metadata": {},
   "outputs": [
    {
     "name": "stderr",
     "output_type": "stream",
     "text": [
      "/var/folders/z7/yk43scxd16x0n2387j0sp2bh0000gn/T/ipykernel_6775/2726724155.py:1: DtypeWarning: Columns (0,1,2,3,4,5,6,7,8,9,10,11,12,13,14,15,16,18,19,20,21,22,25,26,27,29,30) have mixed types. Specify dtype option on import or set low_memory=False.\n",
      "  data = pd.read_csv(\"/Users/hsiao-chunhung/Downloads/fraud_detector_data.csv\")\n"
     ]
    }
   ],
   "source": [
    "data = pd.read_csv(\"/Users/hsiao-chunhung/Downloads/fraud_detector_data.csv\")"
   ]
  },
  {
   "cell_type": "code",
   "execution_count": 4,
   "metadata": {},
   "outputs": [],
   "source": [
    "# 1 Uncerstanding the data"
   ]
  },
  {
   "cell_type": "code",
   "execution_count": 5,
   "metadata": {},
   "outputs": [
    {
     "data": {
      "text/html": [
       "<div>\n",
       "<style scoped>\n",
       "    .dataframe tbody tr th:only-of-type {\n",
       "        vertical-align: middle;\n",
       "    }\n",
       "\n",
       "    .dataframe tbody tr th {\n",
       "        vertical-align: top;\n",
       "    }\n",
       "\n",
       "    .dataframe thead th {\n",
       "        text-align: right;\n",
       "    }\n",
       "</style>\n",
       "<table border=\"1\" class=\"dataframe\">\n",
       "  <thead>\n",
       "    <tr style=\"text-align: right;\">\n",
       "      <th></th>\n",
       "      <th>Folder-User</th>\n",
       "      <th>Folder-Name</th>\n",
       "      <th>Message-ID</th>\n",
       "      <th>Date</th>\n",
       "      <th>From</th>\n",
       "      <th>To</th>\n",
       "      <th>Subject</th>\n",
       "      <th>Mime-Version</th>\n",
       "      <th>Content-Type</th>\n",
       "      <th>Content-Transfer-Encoding</th>\n",
       "      <th>...</th>\n",
       "      <th>POI-Present</th>\n",
       "      <th>Suspicious-Folders</th>\n",
       "      <th>Sender-Type</th>\n",
       "      <th>Unique-Mails-From-Sender</th>\n",
       "      <th>Low-Comm</th>\n",
       "      <th>Contains-Reply-Forwards</th>\n",
       "      <th>Phishing-Annotation</th>\n",
       "      <th>SocEngg-Annotation</th>\n",
       "      <th>Label</th>\n",
       "      <th>Split</th>\n",
       "    </tr>\n",
       "  </thead>\n",
       "  <tbody>\n",
       "    <tr>\n",
       "      <th>0</th>\n",
       "      <td>maildir</td>\n",
       "      <td>arnold-j</td>\n",
       "      <td>&lt;17334447.1075857585446.JavaMail.evans@thyme&gt;</td>\n",
       "      <td>Thu, 16 Nov 2000 09:30:00 -0800 (PST)</td>\n",
       "      <td>msagel@home.com</td>\n",
       "      <td>jarnold@enron.com</td>\n",
       "      <td>Status</td>\n",
       "      <td>1.0</td>\n",
       "      <td>text/plain; charset=ANSI_X3.4-1968</td>\n",
       "      <td>7bit</td>\n",
       "      <td>...</td>\n",
       "      <td>False</td>\n",
       "      <td>False</td>\n",
       "      <td>External</td>\n",
       "      <td>18.0</td>\n",
       "      <td>False</td>\n",
       "      <td>False</td>\n",
       "      <td>0.0</td>\n",
       "      <td>0.0</td>\n",
       "      <td>0</td>\n",
       "      <td>Train</td>\n",
       "    </tr>\n",
       "    <tr>\n",
       "      <th>1</th>\n",
       "      <td>maildir</td>\n",
       "      <td>arnold-j</td>\n",
       "      <td>&lt;19171686.1075857585034.JavaMail.evans@thyme&gt;</td>\n",
       "      <td>Fri, 8 Dec 2000 05:05:00 -0800 (PST)</td>\n",
       "      <td>slafontaine@globalp.com</td>\n",
       "      <td>john.arnold@enron.com</td>\n",
       "      <td>re:summer inverses</td>\n",
       "      <td>1.0</td>\n",
       "      <td>text/plain; charset=us-ascii</td>\n",
       "      <td>7bit</td>\n",
       "      <td>...</td>\n",
       "      <td>False</td>\n",
       "      <td>False</td>\n",
       "      <td>External</td>\n",
       "      <td>4.0</td>\n",
       "      <td>True</td>\n",
       "      <td>False</td>\n",
       "      <td>0.0</td>\n",
       "      <td>0.0</td>\n",
       "      <td>0</td>\n",
       "      <td>Train</td>\n",
       "    </tr>\n",
       "    <tr>\n",
       "      <th>2</th>\n",
       "      <td>maildir</td>\n",
       "      <td>arnold-j</td>\n",
       "      <td>&lt;29887033.1075857630725.JavaMail.evans@thyme&gt;</td>\n",
       "      <td>Tue, 15 May 2001 09:43:00 -0700 (PDT)</td>\n",
       "      <td>iceoperations@intcx.com</td>\n",
       "      <td>icehelpdesk@intcx.com, internalmarketing@intcx...</td>\n",
       "      <td>The WTI Bullet swap contracts</td>\n",
       "      <td>1.0</td>\n",
       "      <td>text/plain; charset=us-ascii</td>\n",
       "      <td>7bit</td>\n",
       "      <td>...</td>\n",
       "      <td>False</td>\n",
       "      <td>False</td>\n",
       "      <td>External</td>\n",
       "      <td>3.0</td>\n",
       "      <td>True</td>\n",
       "      <td>False</td>\n",
       "      <td>0.0</td>\n",
       "      <td>0.0</td>\n",
       "      <td>0</td>\n",
       "      <td>Train</td>\n",
       "    </tr>\n",
       "    <tr>\n",
       "      <th>3</th>\n",
       "      <td>maildir</td>\n",
       "      <td>arnold-j</td>\n",
       "      <td>&lt;2526360.1075857584903.JavaMail.evans@thyme&gt;</td>\n",
       "      <td>Mon, 11 Dec 2000 23:52:00 -0800 (PST)</td>\n",
       "      <td>klarnold@flash.net</td>\n",
       "      <td>john.arnold@enron.com</td>\n",
       "      <td>Fwd: NYTimes.com Article: Suspended Rabbi Quit...</td>\n",
       "      <td>1.0</td>\n",
       "      <td>text/plain; charset=us-ascii</td>\n",
       "      <td>7bit</td>\n",
       "      <td>...</td>\n",
       "      <td>False</td>\n",
       "      <td>False</td>\n",
       "      <td>External</td>\n",
       "      <td>9.0</td>\n",
       "      <td>False</td>\n",
       "      <td>True</td>\n",
       "      <td>0.0</td>\n",
       "      <td>0.0</td>\n",
       "      <td>0</td>\n",
       "      <td>Train</td>\n",
       "    </tr>\n",
       "    <tr>\n",
       "      <th>4</th>\n",
       "      <td>maildir</td>\n",
       "      <td>arnold-j</td>\n",
       "      <td>&lt;30102065.1075857630952.JavaMail.evans@thyme&gt;</td>\n",
       "      <td>Mon, 14 May 2001 23:59:00 -0700 (PDT)</td>\n",
       "      <td>soblander@carrfut.com</td>\n",
       "      <td>soblander@carrfut.com</td>\n",
       "      <td>daily charts and matrices as hot links 5/15</td>\n",
       "      <td>1.0</td>\n",
       "      <td>text/plain; charset=us-ascii</td>\n",
       "      <td>7bit</td>\n",
       "      <td>...</td>\n",
       "      <td>False</td>\n",
       "      <td>False</td>\n",
       "      <td>External</td>\n",
       "      <td>352.0</td>\n",
       "      <td>False</td>\n",
       "      <td>False</td>\n",
       "      <td>0.0</td>\n",
       "      <td>0.0</td>\n",
       "      <td>0</td>\n",
       "      <td>Train</td>\n",
       "    </tr>\n",
       "  </tbody>\n",
       "</table>\n",
       "<p>5 rows × 35 columns</p>\n",
       "</div>"
      ],
      "text/plain": [
       "  Folder-User Folder-Name                                     Message-ID  \\\n",
       "0     maildir    arnold-j  <17334447.1075857585446.JavaMail.evans@thyme>   \n",
       "1     maildir    arnold-j  <19171686.1075857585034.JavaMail.evans@thyme>   \n",
       "2     maildir    arnold-j  <29887033.1075857630725.JavaMail.evans@thyme>   \n",
       "3     maildir    arnold-j   <2526360.1075857584903.JavaMail.evans@thyme>   \n",
       "4     maildir    arnold-j  <30102065.1075857630952.JavaMail.evans@thyme>   \n",
       "\n",
       "                                    Date                     From  \\\n",
       "0  Thu, 16 Nov 2000 09:30:00 -0800 (PST)          msagel@home.com   \n",
       "1   Fri, 8 Dec 2000 05:05:00 -0800 (PST)  slafontaine@globalp.com   \n",
       "2  Tue, 15 May 2001 09:43:00 -0700 (PDT)  iceoperations@intcx.com   \n",
       "3  Mon, 11 Dec 2000 23:52:00 -0800 (PST)       klarnold@flash.net   \n",
       "4  Mon, 14 May 2001 23:59:00 -0700 (PDT)    soblander@carrfut.com   \n",
       "\n",
       "                                                  To  \\\n",
       "0                                  jarnold@enron.com   \n",
       "1                              john.arnold@enron.com   \n",
       "2  icehelpdesk@intcx.com, internalmarketing@intcx...   \n",
       "3                              john.arnold@enron.com   \n",
       "4                              soblander@carrfut.com   \n",
       "\n",
       "                                             Subject Mime-Version  \\\n",
       "0                                             Status          1.0   \n",
       "1                                 re:summer inverses          1.0   \n",
       "2                      The WTI Bullet swap contracts          1.0   \n",
       "3  Fwd: NYTimes.com Article: Suspended Rabbi Quit...          1.0   \n",
       "4        daily charts and matrices as hot links 5/15          1.0   \n",
       "\n",
       "                         Content-Type Content-Transfer-Encoding  ...  \\\n",
       "0  text/plain; charset=ANSI_X3.4-1968                      7bit  ...   \n",
       "1        text/plain; charset=us-ascii                      7bit  ...   \n",
       "2        text/plain; charset=us-ascii                      7bit  ...   \n",
       "3        text/plain; charset=us-ascii                      7bit  ...   \n",
       "4        text/plain; charset=us-ascii                      7bit  ...   \n",
       "\n",
       "  POI-Present Suspicious-Folders Sender-Type Unique-Mails-From-Sender  \\\n",
       "0       False              False    External                     18.0   \n",
       "1       False              False    External                      4.0   \n",
       "2       False              False    External                      3.0   \n",
       "3       False              False    External                      9.0   \n",
       "4       False              False    External                    352.0   \n",
       "\n",
       "  Low-Comm Contains-Reply-Forwards Phishing-Annotation SocEngg-Annotation  \\\n",
       "0    False                   False                 0.0                0.0   \n",
       "1     True                   False                 0.0                0.0   \n",
       "2     True                   False                 0.0                0.0   \n",
       "3    False                    True                 0.0                0.0   \n",
       "4    False                   False                 0.0                0.0   \n",
       "\n",
       "  Label  Split  \n",
       "0     0  Train  \n",
       "1     0  Train  \n",
       "2     0  Train  \n",
       "3     0  Train  \n",
       "4     0  Train  \n",
       "\n",
       "[5 rows x 35 columns]"
      ]
     },
     "execution_count": 5,
     "metadata": {},
     "output_type": "execute_result"
    }
   ],
   "source": [
    "data.head()"
   ]
  },
  {
   "cell_type": "code",
   "execution_count": 6,
   "metadata": {},
   "outputs": [
    {
     "data": {
      "text/html": [
       "<div>\n",
       "<style scoped>\n",
       "    .dataframe tbody tr th:only-of-type {\n",
       "        vertical-align: middle;\n",
       "    }\n",
       "\n",
       "    .dataframe tbody tr th {\n",
       "        vertical-align: top;\n",
       "    }\n",
       "\n",
       "    .dataframe thead th {\n",
       "        text-align: right;\n",
       "    }\n",
       "</style>\n",
       "<table border=\"1\" class=\"dataframe\">\n",
       "  <thead>\n",
       "    <tr style=\"text-align: right;\">\n",
       "      <th></th>\n",
       "      <th>Folder-User</th>\n",
       "      <th>Folder-Name</th>\n",
       "      <th>Message-ID</th>\n",
       "      <th>Date</th>\n",
       "      <th>From</th>\n",
       "      <th>To</th>\n",
       "      <th>Subject</th>\n",
       "      <th>Mime-Version</th>\n",
       "      <th>Content-Type</th>\n",
       "      <th>Content-Transfer-Encoding</th>\n",
       "      <th>...</th>\n",
       "      <th>POI-Present</th>\n",
       "      <th>Suspicious-Folders</th>\n",
       "      <th>Sender-Type</th>\n",
       "      <th>Unique-Mails-From-Sender</th>\n",
       "      <th>Low-Comm</th>\n",
       "      <th>Contains-Reply-Forwards</th>\n",
       "      <th>Phishing-Annotation</th>\n",
       "      <th>SocEngg-Annotation</th>\n",
       "      <th>Label</th>\n",
       "      <th>Split</th>\n",
       "    </tr>\n",
       "  </thead>\n",
       "  <tbody>\n",
       "    <tr>\n",
       "      <th>475538</th>\n",
       "      <td>NaN</td>\n",
       "      <td>NaN</td>\n",
       "      <td>NaN</td>\n",
       "      <td>NaN</td>\n",
       "      <td>NaN</td>\n",
       "      <td>NaN</td>\n",
       "      <td>NaN</td>\n",
       "      <td>NaN</td>\n",
       "      <td>NaN</td>\n",
       "      <td>NaN</td>\n",
       "      <td>...</td>\n",
       "      <td>NaN</td>\n",
       "      <td>NaN</td>\n",
       "      <td>NaN</td>\n",
       "      <td>NaN</td>\n",
       "      <td>NaN</td>\n",
       "      <td>NaN</td>\n",
       "      <td>NaN</td>\n",
       "      <td>NaN</td>\n",
       "      <td>1</td>\n",
       "      <td>Gold Fraud</td>\n",
       "    </tr>\n",
       "    <tr>\n",
       "      <th>475539</th>\n",
       "      <td>NaN</td>\n",
       "      <td>NaN</td>\n",
       "      <td>NaN</td>\n",
       "      <td>NaN</td>\n",
       "      <td>NaN</td>\n",
       "      <td>NaN</td>\n",
       "      <td>NaN</td>\n",
       "      <td>NaN</td>\n",
       "      <td>NaN</td>\n",
       "      <td>NaN</td>\n",
       "      <td>...</td>\n",
       "      <td>NaN</td>\n",
       "      <td>NaN</td>\n",
       "      <td>NaN</td>\n",
       "      <td>NaN</td>\n",
       "      <td>NaN</td>\n",
       "      <td>NaN</td>\n",
       "      <td>NaN</td>\n",
       "      <td>NaN</td>\n",
       "      <td>1</td>\n",
       "      <td>Gold Fraud</td>\n",
       "    </tr>\n",
       "    <tr>\n",
       "      <th>475540</th>\n",
       "      <td>NaN</td>\n",
       "      <td>NaN</td>\n",
       "      <td>NaN</td>\n",
       "      <td>NaN</td>\n",
       "      <td>NaN</td>\n",
       "      <td>NaN</td>\n",
       "      <td>NaN</td>\n",
       "      <td>NaN</td>\n",
       "      <td>NaN</td>\n",
       "      <td>NaN</td>\n",
       "      <td>...</td>\n",
       "      <td>NaN</td>\n",
       "      <td>NaN</td>\n",
       "      <td>NaN</td>\n",
       "      <td>NaN</td>\n",
       "      <td>NaN</td>\n",
       "      <td>NaN</td>\n",
       "      <td>NaN</td>\n",
       "      <td>NaN</td>\n",
       "      <td>1</td>\n",
       "      <td>Gold Fraud</td>\n",
       "    </tr>\n",
       "    <tr>\n",
       "      <th>475541</th>\n",
       "      <td>NaN</td>\n",
       "      <td>NaN</td>\n",
       "      <td>NaN</td>\n",
       "      <td>NaN</td>\n",
       "      <td>NaN</td>\n",
       "      <td>NaN</td>\n",
       "      <td>NaN</td>\n",
       "      <td>NaN</td>\n",
       "      <td>NaN</td>\n",
       "      <td>NaN</td>\n",
       "      <td>...</td>\n",
       "      <td>NaN</td>\n",
       "      <td>NaN</td>\n",
       "      <td>NaN</td>\n",
       "      <td>NaN</td>\n",
       "      <td>NaN</td>\n",
       "      <td>NaN</td>\n",
       "      <td>NaN</td>\n",
       "      <td>NaN</td>\n",
       "      <td>1</td>\n",
       "      <td>Gold Fraud</td>\n",
       "    </tr>\n",
       "    <tr>\n",
       "      <th>475542</th>\n",
       "      <td>NaN</td>\n",
       "      <td>NaN</td>\n",
       "      <td>NaN</td>\n",
       "      <td>NaN</td>\n",
       "      <td>NaN</td>\n",
       "      <td>NaN</td>\n",
       "      <td>NaN</td>\n",
       "      <td>NaN</td>\n",
       "      <td>NaN</td>\n",
       "      <td>NaN</td>\n",
       "      <td>...</td>\n",
       "      <td>NaN</td>\n",
       "      <td>NaN</td>\n",
       "      <td>NaN</td>\n",
       "      <td>NaN</td>\n",
       "      <td>NaN</td>\n",
       "      <td>NaN</td>\n",
       "      <td>NaN</td>\n",
       "      <td>NaN</td>\n",
       "      <td>1</td>\n",
       "      <td>Gold Fraud</td>\n",
       "    </tr>\n",
       "  </tbody>\n",
       "</table>\n",
       "<p>5 rows × 35 columns</p>\n",
       "</div>"
      ],
      "text/plain": [
       "       Folder-User Folder-Name Message-ID Date From   To Subject Mime-Version  \\\n",
       "475538         NaN         NaN        NaN  NaN  NaN  NaN     NaN          NaN   \n",
       "475539         NaN         NaN        NaN  NaN  NaN  NaN     NaN          NaN   \n",
       "475540         NaN         NaN        NaN  NaN  NaN  NaN     NaN          NaN   \n",
       "475541         NaN         NaN        NaN  NaN  NaN  NaN     NaN          NaN   \n",
       "475542         NaN         NaN        NaN  NaN  NaN  NaN     NaN          NaN   \n",
       "\n",
       "       Content-Type Content-Transfer-Encoding  ... POI-Present  \\\n",
       "475538          NaN                       NaN  ...         NaN   \n",
       "475539          NaN                       NaN  ...         NaN   \n",
       "475540          NaN                       NaN  ...         NaN   \n",
       "475541          NaN                       NaN  ...         NaN   \n",
       "475542          NaN                       NaN  ...         NaN   \n",
       "\n",
       "       Suspicious-Folders Sender-Type Unique-Mails-From-Sender Low-Comm  \\\n",
       "475538                NaN         NaN                      NaN      NaN   \n",
       "475539                NaN         NaN                      NaN      NaN   \n",
       "475540                NaN         NaN                      NaN      NaN   \n",
       "475541                NaN         NaN                      NaN      NaN   \n",
       "475542                NaN         NaN                      NaN      NaN   \n",
       "\n",
       "       Contains-Reply-Forwards Phishing-Annotation SocEngg-Annotation Label  \\\n",
       "475538                     NaN                 NaN                NaN     1   \n",
       "475539                     NaN                 NaN                NaN     1   \n",
       "475540                     NaN                 NaN                NaN     1   \n",
       "475541                     NaN                 NaN                NaN     1   \n",
       "475542                     NaN                 NaN                NaN     1   \n",
       "\n",
       "             Split  \n",
       "475538  Gold Fraud  \n",
       "475539  Gold Fraud  \n",
       "475540  Gold Fraud  \n",
       "475541  Gold Fraud  \n",
       "475542  Gold Fraud  \n",
       "\n",
       "[5 rows x 35 columns]"
      ]
     },
     "execution_count": 6,
     "metadata": {},
     "output_type": "execute_result"
    }
   ],
   "source": [
    "data.tail()"
   ]
  },
  {
   "cell_type": "code",
   "execution_count": 7,
   "metadata": {},
   "outputs": [
    {
     "data": {
      "text/plain": [
       "(475543, 35)"
      ]
     },
     "execution_count": 7,
     "metadata": {},
     "output_type": "execute_result"
    }
   ],
   "source": [
    "data.shape"
   ]
  },
  {
   "cell_type": "code",
   "execution_count": 8,
   "metadata": {},
   "outputs": [
    {
     "data": {
      "text/html": [
       "<div>\n",
       "<style scoped>\n",
       "    .dataframe tbody tr th:only-of-type {\n",
       "        vertical-align: middle;\n",
       "    }\n",
       "\n",
       "    .dataframe tbody tr th {\n",
       "        vertical-align: top;\n",
       "    }\n",
       "\n",
       "    .dataframe thead th {\n",
       "        text-align: right;\n",
       "    }\n",
       "</style>\n",
       "<table border=\"1\" class=\"dataframe\">\n",
       "  <thead>\n",
       "    <tr style=\"text-align: right;\">\n",
       "      <th></th>\n",
       "      <th>Unique-Mails-From-Sender</th>\n",
       "      <th>Phishing-Annotation</th>\n",
       "      <th>SocEngg-Annotation</th>\n",
       "      <th>Label</th>\n",
       "    </tr>\n",
       "  </thead>\n",
       "  <tbody>\n",
       "    <tr>\n",
       "      <th>count</th>\n",
       "      <td>447417.000000</td>\n",
       "      <td>447417.000000</td>\n",
       "      <td>447417.000000</td>\n",
       "      <td>475543.000000</td>\n",
       "    </tr>\n",
       "    <tr>\n",
       "      <th>mean</th>\n",
       "      <td>979.691999</td>\n",
       "      <td>0.010637</td>\n",
       "      <td>0.000858</td>\n",
       "      <td>0.024105</td>\n",
       "    </tr>\n",
       "    <tr>\n",
       "      <th>std</th>\n",
       "      <td>1446.968908</td>\n",
       "      <td>0.102584</td>\n",
       "      <td>0.029284</td>\n",
       "      <td>0.153376</td>\n",
       "    </tr>\n",
       "    <tr>\n",
       "      <th>min</th>\n",
       "      <td>0.000000</td>\n",
       "      <td>0.000000</td>\n",
       "      <td>0.000000</td>\n",
       "      <td>0.000000</td>\n",
       "    </tr>\n",
       "    <tr>\n",
       "      <th>25%</th>\n",
       "      <td>33.000000</td>\n",
       "      <td>0.000000</td>\n",
       "      <td>0.000000</td>\n",
       "      <td>0.000000</td>\n",
       "    </tr>\n",
       "    <tr>\n",
       "      <th>50%</th>\n",
       "      <td>250.000000</td>\n",
       "      <td>0.000000</td>\n",
       "      <td>0.000000</td>\n",
       "      <td>0.000000</td>\n",
       "    </tr>\n",
       "    <tr>\n",
       "      <th>75%</th>\n",
       "      <td>1341.000000</td>\n",
       "      <td>0.000000</td>\n",
       "      <td>0.000000</td>\n",
       "      <td>0.000000</td>\n",
       "    </tr>\n",
       "    <tr>\n",
       "      <th>max</th>\n",
       "      <td>5486.000000</td>\n",
       "      <td>1.000000</td>\n",
       "      <td>1.000000</td>\n",
       "      <td>1.000000</td>\n",
       "    </tr>\n",
       "  </tbody>\n",
       "</table>\n",
       "</div>"
      ],
      "text/plain": [
       "       Unique-Mails-From-Sender  Phishing-Annotation  SocEngg-Annotation  \\\n",
       "count             447417.000000        447417.000000       447417.000000   \n",
       "mean                 979.691999             0.010637            0.000858   \n",
       "std                 1446.968908             0.102584            0.029284   \n",
       "min                    0.000000             0.000000            0.000000   \n",
       "25%                   33.000000             0.000000            0.000000   \n",
       "50%                  250.000000             0.000000            0.000000   \n",
       "75%                 1341.000000             0.000000            0.000000   \n",
       "max                 5486.000000             1.000000            1.000000   \n",
       "\n",
       "               Label  \n",
       "count  475543.000000  \n",
       "mean        0.024105  \n",
       "std         0.153376  \n",
       "min         0.000000  \n",
       "25%         0.000000  \n",
       "50%         0.000000  \n",
       "75%         0.000000  \n",
       "max         1.000000  "
      ]
     },
     "execution_count": 8,
     "metadata": {},
     "output_type": "execute_result"
    }
   ],
   "source": [
    "data.describe()"
   ]
  },
  {
   "cell_type": "code",
   "execution_count": 9,
   "metadata": {},
   "outputs": [
    {
     "data": {
      "text/plain": [
       "Index(['Folder-User', 'Folder-Name', 'Message-ID', 'Date', 'From', 'To',\n",
       "       'Subject', 'Mime-Version', 'Content-Type', 'Content-Transfer-Encoding',\n",
       "       'X-From', 'X-To', 'X-cc', 'X-bcc', 'X-Folder', 'X-Origin', 'X-FileName',\n",
       "       'Body', 'Cc', 'Bcc', 'Time', 'Attendees', 'Re', 'Source', 'Mail-ID',\n",
       "       'POI-Present', 'Suspicious-Folders', 'Sender-Type',\n",
       "       'Unique-Mails-From-Sender', 'Low-Comm', 'Contains-Reply-Forwards',\n",
       "       'Phishing-Annotation', 'SocEngg-Annotation', 'Label', 'Split'],\n",
       "      dtype='object')"
      ]
     },
     "execution_count": 9,
     "metadata": {},
     "output_type": "execute_result"
    }
   ],
   "source": [
    "data.columns"
   ]
  },
  {
   "cell_type": "code",
   "execution_count": 10,
   "metadata": {},
   "outputs": [
    {
     "data": {
      "text/plain": [
       "Folder-User                       1\n",
       "Folder-Name                     150\n",
       "Message-ID                   447417\n",
       "Date                         221093\n",
       "From                          20239\n",
       "To                            58293\n",
       "Subject                      158824\n",
       "Mime-Version                      3\n",
       "Content-Type                      3\n",
       "Content-Transfer-Encoding         4\n",
       "X-From                        27738\n",
       "X-To                          72876\n",
       "X-cc                          33493\n",
       "X-bcc                           117\n",
       "X-Folder                       5173\n",
       "X-Origin                        260\n",
       "X-FileName                      427\n",
       "Body                         269298\n",
       "Cc                            29529\n",
       "Bcc                           29529\n",
       "Time                              2\n",
       "Attendees                         2\n",
       "Re                                1\n",
       "Source                            3\n",
       "Mail-ID                      276118\n",
       "POI-Present                       2\n",
       "Suspicious-Folders                1\n",
       "Sender-Type                       2\n",
       "Unique-Mails-From-Sender        326\n",
       "Low-Comm                          2\n",
       "Contains-Reply-Forwards           2\n",
       "Phishing-Annotation               2\n",
       "SocEngg-Annotation                2\n",
       "Label                             2\n",
       "Split                             3\n",
       "dtype: int64"
      ]
     },
     "execution_count": 10,
     "metadata": {},
     "output_type": "execute_result"
    }
   ],
   "source": [
    "data.nunique()"
   ]
  },
  {
   "cell_type": "code",
   "execution_count": 11,
   "metadata": {},
   "outputs": [
    {
     "data": {
      "text/plain": [
       "array(['Train', 'Sanity', 'Gold Fraud'], dtype=object)"
      ]
     },
     "execution_count": 11,
     "metadata": {},
     "output_type": "execute_result"
    }
   ],
   "source": [
    "data['Split'].unique()"
   ]
  },
  {
   "cell_type": "code",
   "execution_count": 12,
   "metadata": {},
   "outputs": [],
   "source": [
    "# Cleaning the data"
   ]
  },
  {
   "cell_type": "code",
   "execution_count": 13,
   "metadata": {},
   "outputs": [
    {
     "data": {
      "text/plain": [
       "Folder-User                   28126\n",
       "Folder-Name                   28126\n",
       "Message-ID                    28126\n",
       "Date                          28126\n",
       "From                          28126\n",
       "To                            28126\n",
       "Subject                       46146\n",
       "Mime-Version                  28126\n",
       "Content-Type                  28126\n",
       "Content-Transfer-Encoding     28126\n",
       "X-From                        28126\n",
       "X-To                          36305\n",
       "X-cc                         365906\n",
       "X-bcc                        475366\n",
       "X-Folder                      28126\n",
       "X-Origin                      28126\n",
       "X-FileName                    30816\n",
       "Body                              0\n",
       "Cc                            28126\n",
       "Bcc                           28126\n",
       "Time                          28126\n",
       "Attendees                     28126\n",
       "Re                            28126\n",
       "Source                            0\n",
       "Mail-ID                           0\n",
       "POI-Present                   28126\n",
       "Suspicious-Folders            28126\n",
       "Sender-Type                   28126\n",
       "Unique-Mails-From-Sender      28126\n",
       "Low-Comm                      28126\n",
       "Contains-Reply-Forwards       28126\n",
       "Phishing-Annotation           28126\n",
       "SocEngg-Annotation            28126\n",
       "Label                             0\n",
       "Split                             0\n",
       "dtype: int64"
      ]
     },
     "execution_count": 13,
     "metadata": {},
     "output_type": "execute_result"
    }
   ],
   "source": [
    "data.isnull().sum()"
   ]
  },
  {
   "cell_type": "code",
   "execution_count": 14,
   "metadata": {},
   "outputs": [],
   "source": [
    "fraudDetector = data[['Unique-Mails-From-Sender', 'Phishing-Annotation', 'SocEngg-Annotation', 'Label']].copy()"
   ]
  },
  {
   "cell_type": "code",
   "execution_count": 15,
   "metadata": {},
   "outputs": [
    {
     "data": {
      "text/html": [
       "<div>\n",
       "<style scoped>\n",
       "    .dataframe tbody tr th:only-of-type {\n",
       "        vertical-align: middle;\n",
       "    }\n",
       "\n",
       "    .dataframe tbody tr th {\n",
       "        vertical-align: top;\n",
       "    }\n",
       "\n",
       "    .dataframe thead th {\n",
       "        text-align: right;\n",
       "    }\n",
       "</style>\n",
       "<table border=\"1\" class=\"dataframe\">\n",
       "  <thead>\n",
       "    <tr style=\"text-align: right;\">\n",
       "      <th></th>\n",
       "      <th>Unique-Mails-From-Sender</th>\n",
       "      <th>Phishing-Annotation</th>\n",
       "      <th>SocEngg-Annotation</th>\n",
       "      <th>Label</th>\n",
       "    </tr>\n",
       "  </thead>\n",
       "  <tbody>\n",
       "    <tr>\n",
       "      <th>0</th>\n",
       "      <td>18.0</td>\n",
       "      <td>0.0</td>\n",
       "      <td>0.0</td>\n",
       "      <td>0</td>\n",
       "    </tr>\n",
       "    <tr>\n",
       "      <th>1</th>\n",
       "      <td>4.0</td>\n",
       "      <td>0.0</td>\n",
       "      <td>0.0</td>\n",
       "      <td>0</td>\n",
       "    </tr>\n",
       "    <tr>\n",
       "      <th>2</th>\n",
       "      <td>3.0</td>\n",
       "      <td>0.0</td>\n",
       "      <td>0.0</td>\n",
       "      <td>0</td>\n",
       "    </tr>\n",
       "    <tr>\n",
       "      <th>3</th>\n",
       "      <td>9.0</td>\n",
       "      <td>0.0</td>\n",
       "      <td>0.0</td>\n",
       "      <td>0</td>\n",
       "    </tr>\n",
       "    <tr>\n",
       "      <th>4</th>\n",
       "      <td>352.0</td>\n",
       "      <td>0.0</td>\n",
       "      <td>0.0</td>\n",
       "      <td>0</td>\n",
       "    </tr>\n",
       "  </tbody>\n",
       "</table>\n",
       "</div>"
      ],
      "text/plain": [
       "   Unique-Mails-From-Sender  Phishing-Annotation  SocEngg-Annotation  Label\n",
       "0                      18.0                  0.0                 0.0      0\n",
       "1                       4.0                  0.0                 0.0      0\n",
       "2                       3.0                  0.0                 0.0      0\n",
       "3                       9.0                  0.0                 0.0      0\n",
       "4                     352.0                  0.0                 0.0      0"
      ]
     },
     "execution_count": 15,
     "metadata": {},
     "output_type": "execute_result"
    }
   ],
   "source": [
    "fraudDetector.head()"
   ]
  },
  {
   "cell_type": "code",
   "execution_count": 16,
   "metadata": {},
   "outputs": [],
   "source": [
    "# Relationship analysis"
   ]
  },
  {
   "cell_type": "code",
   "execution_count": 17,
   "metadata": {},
   "outputs": [],
   "source": [
    "corelation = fraudDetector.corr()"
   ]
  },
  {
   "cell_type": "code",
   "execution_count": 18,
   "metadata": {},
   "outputs": [
    {
     "data": {
      "text/plain": [
       "<AxesSubplot: >"
      ]
     },
     "execution_count": 18,
     "metadata": {},
     "output_type": "execute_result"
    },
    {
     "data": {
      "image/png": "[encoded data removed]",
      "text/plain": [
       "<Figure size 640x480 with 2 Axes>"
      ]
     },
     "metadata": {},
     "output_type": "display_data"
    }
   ],
   "source": [
    "sns.heatmap(corelation, xticklabels=corelation.columns, yticklabels=corelation.columns, annot=True)"
   ]
  },
  {
   "cell_type": "code",
   "execution_count": 19,
   "metadata": {},
   "outputs": [
    {
     "name": "stdout",
     "output_type": "stream",
     "text": [
      "                                 \u001b[1mNumeric Features Distribution                                  \n"
     ]
    },
    {
     "name": "stderr",
     "output_type": "stream",
     "text": [
      "/var/folders/z7/yk43scxd16x0n2387j0sp2bh0000gn/T/ipykernel_6775/886285833.py:14: UserWarning: \n",
      "\n",
      "`distplot` is a deprecated function and will be removed in seaborn v0.14.0.\n",
      "\n",
      "Please adapt your code to use either `displot` (a figure-level function with\n",
      "similar flexibility) or `histplot` (an axes-level function for histograms).\n",
      "\n",
      "For a guide to updating your code to use the new functions, please see\n",
      "https://gist.github.com/mwaskom/de44147ed2974457ad6372750bbe5751\n",
      "\n",
      "  sns.distplot(fraudDetector[cols[i]],hist_kws=dict(edgecolor=\"black\", linewidth=2), bins=10, color=list(np.random.randint([255,255,255])/255))\n",
      "/var/folders/z7/yk43scxd16x0n2387j0sp2bh0000gn/T/ipykernel_6775/886285833.py:14: UserWarning: \n",
      "\n",
      "`distplot` is a deprecated function and will be removed in seaborn v0.14.0.\n",
      "\n",
      "Please adapt your code to use either `displot` (a figure-level function with\n",
      "similar flexibility) or `histplot` (an axes-level function for histograms).\n",
      "\n",
      "For a guide to updating your code to use the new functions, please see\n",
      "https://gist.github.com/mwaskom/de44147ed2974457ad6372750bbe5751\n",
      "\n",
      "  sns.distplot(fraudDetector[cols[i]],hist_kws=dict(edgecolor=\"black\", linewidth=2), bins=10, color=list(np.random.randint([255,255,255])/255))\n",
      "/var/folders/z7/yk43scxd16x0n2387j0sp2bh0000gn/T/ipykernel_6775/886285833.py:14: UserWarning: \n",
      "\n",
      "`distplot` is a deprecated function and will be removed in seaborn v0.14.0.\n",
      "\n",
      "Please adapt your code to use either `displot` (a figure-level function with\n",
      "similar flexibility) or `histplot` (an axes-level function for histograms).\n",
      "\n",
      "For a guide to updating your code to use the new functions, please see\n",
      "https://gist.github.com/mwaskom/de44147ed2974457ad6372750bbe5751\n",
      "\n",
      "  sns.distplot(fraudDetector[cols[i]],hist_kws=dict(edgecolor=\"black\", linewidth=2), bins=10, color=list(np.random.randint([255,255,255])/255))\n",
      "/var/folders/z7/yk43scxd16x0n2387j0sp2bh0000gn/T/ipykernel_6775/886285833.py:14: UserWarning: \n",
      "\n",
      "`distplot` is a deprecated function and will be removed in seaborn v0.14.0.\n",
      "\n",
      "Please adapt your code to use either `displot` (a figure-level function with\n",
      "similar flexibility) or `histplot` (an axes-level function for histograms).\n",
      "\n",
      "For a guide to updating your code to use the new functions, please see\n",
      "https://gist.github.com/mwaskom/de44147ed2974457ad6372750bbe5751\n",
      "\n",
      "  sns.distplot(fraudDetector[cols[i]],hist_kws=dict(edgecolor=\"black\", linewidth=2), bins=10, color=list(np.random.randint([255,255,255])/255))\n"
     ]
    },
    {
     "data": {
      "image/png": "[encoded data removed]",
      "text/plain": [
       "<Figure size 1500x400 with 4 Axes>"
      ]
     },
     "metadata": {},
     "output_type": "display_data"
    }
   ],
   "source": [
    "print('\\033[1mNumeric Features Distribution'.center(100))\n",
    "\n",
    "n = 5\n",
    "cols = fraudDetector.columns.tolist()[0:]\n",
    "n_col = len(cols)\n",
    "\n",
    "clr=['r','g','b','g','b','r']\n",
    "\n",
    "plt.figure(\n",
    "    figsize=[15,4*math.ceil(n_col/n)])\n",
    "\n",
    "for i in range(n_col):\n",
    "    plt.subplot(math.ceil(n_col/3),n,i+1)\n",
    "    sns.distplot(fraudDetector[cols[i]],hist_kws=dict(edgecolor=\"black\", linewidth=2), bins=10, color=list(np.random.randint([255,255,255])/255))\n",
    "\n",
    "plt.tight_layout()\n",
    "plt.show()"
   ]
  },
  {
   "cell_type": "code",
   "execution_count": 20,
   "metadata": {},
   "outputs": [
    {
     "data": {
      "image/png": "[encoded data removed]",
      "text/plain": [
       "<Figure size 500x500 with 1 Axes>"
      ]
     },
     "metadata": {},
     "output_type": "display_data"
    },
    {
     "data": {
      "image/png": "[encoded data removed]",
      "text/plain": [
       "<Figure size 500x500 with 1 Axes>"
      ]
     },
     "metadata": {},
     "output_type": "display_data"
    },
    {
     "data": {
      "image/png": "[encoded data removed]",
      "text/plain": [
       "<Figure size 500x500 with 1 Axes>"
      ]
     },
     "metadata": {},
     "output_type": "display_data"
    },
    {
     "data": {
      "image/png": "[encoded data removed]",
      "text/plain": [
       "<Figure size 500x500 with 1 Axes>"
      ]
     },
     "metadata": {},
     "output_type": "display_data"
    }
   ],
   "source": [
    "for i in fraudDetector.columns.tolist()[:]:\n",
    "    sns.catplot(x = i, kind= 'box', data=fraudDetector)"
   ]
  },
  {
   "cell_type": "code",
   "execution_count": 25,
   "metadata": {},
   "outputs": [
    {
     "name": "stdout",
     "output_type": "stream",
     "text": [
      "External    266652\n",
      "Internal    208891\n",
      "Name: Email_Type, dtype: int64\n"
     ]
    }
   ],
   "source": [
    "\n",
    "\n",
    "# Create a new column 'Email_Type' to store the type of email (Internal/External)\n",
    "data['Email_Type'] = ''\n",
    "\n",
    "# Function to determine whether an email is internal or external\n",
    "def classify_email(row):\n",
    "    from_domain = row['From'].split('@')[1] if pd.notnull(row['From']) and '@' in row['From'] else None\n",
    "    to_domain = row['To'].split('@')[1] if pd.notnull(row['To']) and '@' in row['To'] else None\n",
    "    \n",
    "    if from_domain and to_domain and from_domain == to_domain:\n",
    "        return 'Internal'\n",
    "    else:\n",
    "        return 'External'\n",
    "\n",
    "# Apply the function to each row in the dataframe\n",
    "data['Email_Type'] = data.apply(classify_email, axis=1)\n",
    "\n",
    "# Display the count of internal and external emails\n",
    "email_type_counts = data['Email_Type'].value_counts()\n",
    "print(email_type_counts)"
   ]
  },
  {
   "cell_type": "code",
   "execution_count": 26,
   "metadata": {},
   "outputs": [
    {
     "name": "stdout",
     "output_type": "stream",
     "text": [
      "Number of emails with Label=1 and Phishing-Annotation=1: 2260.0\n"
     ]
    }
   ],
   "source": [
    "# Assuming your dataframe is named 'data'\n",
    "# Replace 'your_dataset.csv' with the actual path or name of your dataset file\n",
    "# data = pd.read_csv('your_dataset.csv')\n",
    "\n",
    "# Filter rows where 'Label' is 1\n",
    "label_1_emails = data[data['Label'] == 1]\n",
    "\n",
    "# Count how many of them have 'Phishing-Annotation' set to 1\n",
    "phishing_count_label_1 = label_1_emails['Phishing-Annotation'].sum()\n",
    "\n",
    "# Display the result\n",
    "print(f\"Number of emails with Label=1 and Phishing-Annotation=1: {phishing_count_label_1}\")\n"
   ]
  },
  {
   "cell_type": "code",
   "execution_count": 27,
   "metadata": {},
   "outputs": [
    {
     "name": "stdout",
     "output_type": "stream",
     "text": [
      "Number of emails with Label=1 and SocEngg-Annotation=1: 284.0\n"
     ]
    }
   ],
   "source": [
    "\n",
    "\n",
    "# Filter rows where 'Label' is 1\n",
    "label_1_emails = data[data['Label'] == 1]\n",
    "\n",
    "# Count how many of them have 'SocEngg-Annotation' set to 1\n",
    "soc_engg_count_label_1 = label_1_emails['SocEngg-Annotation'].sum()\n",
    "\n",
    "# Display the result\n",
    "print(f\"Number of emails with Label=1 and SocEngg-Annotation=1: {soc_engg_count_label_1}\")\n"
   ]
  },
  {
   "cell_type": "code",
   "execution_count": 28,
   "metadata": {},
   "outputs": [
    {
     "name": "stdout",
     "output_type": "stream",
     "text": [
      "Number of emails with Label=1 and Low-Comm=1: 2327\n",
      "Number of emails with Label=0 and Low-Comm=1: 35381\n"
     ]
    }
   ],
   "source": [
    "# Count the number of emails with 'Low-Comm' equal to 1 for Label 1\n",
    "low_comm_count_label_1 = data[data['Label'] == 1]['Low-Comm'].sum()\n",
    "\n",
    "# Count the number of emails with 'Low-Comm' equal to 1 for Label 0\n",
    "low_comm_count_label_0 = data[data['Label'] == 0]['Low-Comm'].sum()\n",
    "\n",
    "# Display the results\n",
    "print(f\"Number of emails with Label=1 and Low-Comm=1: {low_comm_count_label_1}\")\n",
    "print(f\"Number of emails with Label=0 and Low-Comm=1: {low_comm_count_label_0}\")\n"
   ]
  },
  {
   "cell_type": "code",
   "execution_count": 29,
   "metadata": {},
   "outputs": [
    {
     "name": "stdout",
     "output_type": "stream",
     "text": [
      "count    4.755430e+05\n",
      "mean     9.262337e+02\n",
      "std      5.256139e+03\n",
      "min      1.000000e+00\n",
      "25%      1.260000e+02\n",
      "50%      2.420000e+02\n",
      "75%      6.170000e+02\n",
      "max      1.401129e+06\n",
      "Name: Body_Length, dtype: float64\n"
     ]
    }
   ],
   "source": [
    "# Use apply and len to calculate the length of each 'Body' text\n",
    "data['Body_Length'] = data['Body'].apply(lambda x: len(str(x)))\n",
    "\n",
    "# Display the distribution of lengths\n",
    "body_length_distribution = data['Body_Length'].describe()\n",
    "print(body_length_distribution)\n"
   ]
  },
  {
   "cell_type": "code",
   "execution_count": null,
   "metadata": {},
   "outputs": [],
   "source": []
  }
 ],
 "metadata": {
  "kernelspec": {
   "display_name": "Python 3",
   "language": "python",
   "name": "python3"
  },
  "language_info": {
   "codemirror_mode": {
    "name": "ipython",
    "version": 3
   },
   "file_extension": ".py",
   "mimetype": "text/x-python",
   "name": "python",
   "nbconvert_exporter": "python",
   "pygments_lexer": "ipython3",
   "version": "3.10.7"
  }
 },
 "nbformat": 4,
 "nbformat_minor": 2
}
